{
 "metadata": {
  "language_info": {
   "codemirror_mode": {
    "name": "ipython",
    "version": 3
   },
   "file_extension": ".py",
   "mimetype": "text/x-python",
   "name": "python",
   "nbconvert_exporter": "python",
   "pygments_lexer": "ipython3",
   "version": "3.8.3-final"
  },
  "orig_nbformat": 2,
  "kernelspec": {
   "name": "python3",
   "display_name": "Python 3.8.3 64-bit ('conma': virtualenv)",
   "metadata": {
    "interpreter": {
     "hash": "78c908cb1a9dd36d2ac072f33e7f862980c362a2c369a07a6eb11e3740dc70f2"
    }
   }
  }
 },
 "nbformat": 4,
 "nbformat_minor": 2,
 "cells": [
  {
   "cell_type": "code",
   "execution_count": 1,
   "metadata": {},
   "outputs": [],
   "source": [
    "import pandas as pd\n",
    "\n",
    "data2015 = \"..\\data\\cleaned\\clean2015.csv\"\n",
    "data2016 = \"../data/cleaned/clean2016.csv\"\n",
    "data2017 = \"../data/cleaned/clean2017.csv\"\n",
    "data2018 = \"../data/cleaned/clean2018.csv\"\n",
    "data2019 = \"../data/cleaned/clean2019.csv\"\n",
    "data2020 = \"../data/cleaned/clean2020.csv\"\n"
   ]
  },
  {
   "cell_type": "code",
   "execution_count": 2,
   "metadata": {},
   "outputs": [],
   "source": [
    "df2015 = pd.read_csv(data2015)\n",
    "df2016 = pd.read_csv(data2016)\n",
    "df2017 = pd.read_csv(data2017)\n",
    "df2018 = pd.read_csv(data2018)\n",
    "df2019 = pd.read_csv(data2019)\n",
    "df2020 = pd.read_csv(data2020)"
   ]
  },
  {
   "cell_type": "code",
   "execution_count": 12,
   "metadata": {},
   "outputs": [],
   "source": [
    "bigboy = df2015.merge(df2016, on='Country', how='left', suffixes=('_2015','_2016'))\n",
    "bigboy = bigboy.merge(df2017, on='Country', how = 'left')\n",
    "bigboy = bigboy.merge(df2018, on='Country', how='left', suffixes=('_2017','_2018'))\n",
    "bigboy = bigboy.merge(df2019, on='Country', how = 'left')\n",
    "bigboy = bigboy.merge(df2020, on='Country', how='left', suffixes=('_2019','_2020'))\n",
    "bigboy = bigboy.dropna()"
   ]
  },
  {
   "cell_type": "code",
   "execution_count": 14,
   "metadata": {},
   "outputs": [],
   "source": [
    "bigboy['Total Change'] = bigboy['Happiness Score_2020'] - bigboy['Happiness Score_2015']\n",
    "sortedChange = bigboy.sort_values(by='Total Change')"
   ]
  },
  {
   "cell_type": "code",
   "execution_count": 17,
   "metadata": {},
   "outputs": [],
   "source": [
    "gotWorse5 = sortedChange.head(5)"
   ]
  },
  {
   "cell_type": "code",
   "execution_count": 18,
   "metadata": {},
   "outputs": [],
   "source": [
    "improved5 = sortedChange.tail(5)"
   ]
  },
  {
   "cell_type": "code",
   "execution_count": 20,
   "metadata": {},
   "outputs": [],
   "source": [
    "topAndBottom5 = pd.concat([gotWorse5,improved5])"
   ]
  },
  {
   "cell_type": "code",
   "execution_count": 22,
   "metadata": {},
   "outputs": [],
   "source": [
    "topAndBottom5.to_csv('../data/cleaned/mostImproved_gotWorse.csv',index=False)"
   ]
  },
  {
   "cell_type": "code",
   "execution_count": null,
   "metadata": {},
   "outputs": [],
   "source": []
  }
 ]
}