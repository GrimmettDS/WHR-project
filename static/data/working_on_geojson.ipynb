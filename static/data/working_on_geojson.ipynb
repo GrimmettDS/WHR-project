{
 "metadata": {
  "language_info": {
   "codemirror_mode": {
    "name": "ipython",
    "version": 3
   },
   "file_extension": ".py",
   "mimetype": "text/x-python",
   "name": "python",
   "nbconvert_exporter": "python",
   "pygments_lexer": "ipython3",
   "version": "3.8.3-final"
  },
  "orig_nbformat": 2,
  "kernelspec": {
   "name": "python3",
   "display_name": "Python 3.8.3 64-bit ('conma': virtualenv)",
   "metadata": {
    "interpreter": {
     "hash": "78c908cb1a9dd36d2ac072f33e7f862980c362a2c369a07a6eb11e3740dc70f2"
    }
   }
  }
 },
 "nbformat": 4,
 "nbformat_minor": 2,
 "cells": [
  {
   "source": [
    "Using the Pygeoj to edit the GeoJson file. Pulls in data from the WHR csv files using pandas.\n",
    "So far I have 2015 done! Had to edit some country names in the csv files to match the geojson names.\n",
    "Need to either loop through the rest, or do something else, possibly will find more names that need changed."
   ],
   "cell_type": "markdown",
   "metadata": {}
  },
  {
   "cell_type": "code",
   "execution_count": 1,
   "metadata": {},
   "outputs": [],
   "source": [
    "import pygeoj\n",
    "import pandas as pd \n",
    "\n",
    "file = 'geojson/countries.geojson'\n",
    "data = 'cleaned/clean2015.csv'"
   ]
  },
  {
   "cell_type": "code",
   "execution_count": 2,
   "metadata": {},
   "outputs": [],
   "source": [
    "countries = pygeoj.load(file)\n",
    "df = pd.read_csv(data)"
   ]
  },
  {
   "cell_type": "code",
   "execution_count": 3,
   "metadata": {},
   "outputs": [
    {
     "output_type": "execute_result",
     "data": {
      "text/plain": [
       "             Happiness Score  GDP per Capita   Family  \\\n",
       "Country                                                 \n",
       "Switzerland            7.587         1.39651  1.34951   \n",
       "Iceland                7.561         1.30232  1.40223   \n",
       "Denmark                7.527         1.32548  1.36058   \n",
       "Norway                 7.522         1.45900  1.33095   \n",
       "Canada                 7.427         1.32629  1.32261   \n",
       "\n",
       "             Healthy Life Expectancy  Freedom  \\\n",
       "Country                                         \n",
       "Switzerland                  0.94143  0.66557   \n",
       "Iceland                      0.94784  0.62877   \n",
       "Denmark                      0.87464  0.64938   \n",
       "Norway                       0.88521  0.66973   \n",
       "Canada                       0.90563  0.63297   \n",
       "\n",
       "             Perception of Government Corruption  Generosity  \n",
       "Country                                                       \n",
       "Switzerland                              0.41978     0.29678  \n",
       "Iceland                                  0.14145     0.43630  \n",
       "Denmark                                  0.48357     0.34139  \n",
       "Norway                                   0.36503     0.34699  \n",
       "Canada                                   0.32957     0.45811  "
      ],
      "text/html": "<div>\n<style scoped>\n    .dataframe tbody tr th:only-of-type {\n        vertical-align: middle;\n    }\n\n    .dataframe tbody tr th {\n        vertical-align: top;\n    }\n\n    .dataframe thead th {\n        text-align: right;\n    }\n</style>\n<table border=\"1\" class=\"dataframe\">\n  <thead>\n    <tr style=\"text-align: right;\">\n      <th></th>\n      <th>Happiness Score</th>\n      <th>GDP per Capita</th>\n      <th>Family</th>\n      <th>Healthy Life Expectancy</th>\n      <th>Freedom</th>\n      <th>Perception of Government Corruption</th>\n      <th>Generosity</th>\n    </tr>\n    <tr>\n      <th>Country</th>\n      <th></th>\n      <th></th>\n      <th></th>\n      <th></th>\n      <th></th>\n      <th></th>\n      <th></th>\n    </tr>\n  </thead>\n  <tbody>\n    <tr>\n      <th>Switzerland</th>\n      <td>7.587</td>\n      <td>1.39651</td>\n      <td>1.34951</td>\n      <td>0.94143</td>\n      <td>0.66557</td>\n      <td>0.41978</td>\n      <td>0.29678</td>\n    </tr>\n    <tr>\n      <th>Iceland</th>\n      <td>7.561</td>\n      <td>1.30232</td>\n      <td>1.40223</td>\n      <td>0.94784</td>\n      <td>0.62877</td>\n      <td>0.14145</td>\n      <td>0.43630</td>\n    </tr>\n    <tr>\n      <th>Denmark</th>\n      <td>7.527</td>\n      <td>1.32548</td>\n      <td>1.36058</td>\n      <td>0.87464</td>\n      <td>0.64938</td>\n      <td>0.48357</td>\n      <td>0.34139</td>\n    </tr>\n    <tr>\n      <th>Norway</th>\n      <td>7.522</td>\n      <td>1.45900</td>\n      <td>1.33095</td>\n      <td>0.88521</td>\n      <td>0.66973</td>\n      <td>0.36503</td>\n      <td>0.34699</td>\n    </tr>\n    <tr>\n      <th>Canada</th>\n      <td>7.427</td>\n      <td>1.32629</td>\n      <td>1.32261</td>\n      <td>0.90563</td>\n      <td>0.63297</td>\n      <td>0.32957</td>\n      <td>0.45811</td>\n    </tr>\n  </tbody>\n</table>\n</div>"
     },
     "metadata": {},
     "execution_count": 3
    }
   ],
   "source": [
    "df = df.set_index('Country')\n",
    "df.head()\n"
   ]
  },
  {
   "cell_type": "code",
   "execution_count": 4,
   "metadata": {},
   "outputs": [
    {
     "output_type": "execute_result",
     "data": {
      "text/plain": [
       "'Aruba'"
      ]
     },
     "metadata": {},
     "execution_count": 4
    }
   ],
   "source": [
    "properties = countries[0].properties\n",
    "name = properties['ADMIN']\n",
    "name"
   ]
  },
  {
   "cell_type": "code",
   "execution_count": 5,
   "metadata": {
    "tags": []
   },
   "outputs": [
    {
     "output_type": "stream",
     "name": "stdout",
     "text": [
      "Aruba doesn't have a happiness score\nAnguilla doesn't have a happiness score\nAland doesn't have a happiness score\nAndorra doesn't have a happiness score\nAmerican Samoa doesn't have a happiness score\nAntarctica doesn't have a happiness score\nAshmore and Cartier Islands doesn't have a happiness score\nFrench Southern and Antarctic Lands doesn't have a happiness score\nAntigua and Barbuda doesn't have a happiness score\nThe Bahamas doesn't have a happiness score\nBajo Nuevo Bank (Petrel Is.) doesn't have a happiness score\nSaint Barthelemy doesn't have a happiness score\nBelize doesn't have a happiness score\nBermuda doesn't have a happiness score\nBarbados doesn't have a happiness score\nBrunei doesn't have a happiness score\nClipperton Island doesn't have a happiness score\nCyprus No Mans Area doesn't have a happiness score\nCook Islands doesn't have a happiness score\nCape Verde doesn't have a happiness score\nCoral Sea Islands doesn't have a happiness score\nCuba doesn't have a happiness score\nCuraÃ§ao doesn't have a happiness score\nCayman Islands doesn't have a happiness score\nDominica doesn't have a happiness score\nEritrea doesn't have a happiness score\nDhekelia Sovereign Base Area doesn't have a happiness score\nFiji doesn't have a happiness score\nFalkland Islands doesn't have a happiness score\nFaroe Islands doesn't have a happiness score\nFederated States of Micronesia doesn't have a happiness score\nGuernsey doesn't have a happiness score\nGibraltar doesn't have a happiness score\nGambia doesn't have a happiness score\nGuinea Bissau doesn't have a happiness score\nEquatorial Guinea doesn't have a happiness score\nGrenada doesn't have a happiness score\nGreenland doesn't have a happiness score\nGuam doesn't have a happiness score\nGuyana doesn't have a happiness score\nHeard Island and McDonald Islands doesn't have a happiness score\nIsle of Man doesn't have a happiness score\nIndian Ocean Territories doesn't have a happiness score\nBritish Indian Ocean Territory doesn't have a happiness score\nJersey doesn't have a happiness score\nBaykonur Cosmodrome doesn't have a happiness score\nSiachen Glacier doesn't have a happiness score\nKiribati doesn't have a happiness score\nSaint Kitts and Nevis doesn't have a happiness score\nSaint Lucia doesn't have a happiness score\nLiechtenstein doesn't have a happiness score\nMacao S.A.R doesn't have a happiness score\nSaint Martin doesn't have a happiness score\nMonaco doesn't have a happiness score\nMaldives doesn't have a happiness score\nMarshall Islands doesn't have a happiness score\nNorthern Mariana Islands doesn't have a happiness score\nMontserrat doesn't have a happiness score\nNamibia doesn't have a happiness score\nNew Caledonia doesn't have a happiness score\nNorfolk Island doesn't have a happiness score\nNiue doesn't have a happiness score\nNauru doesn't have a happiness score\nPitcairn Islands doesn't have a happiness score\nSpratly Islands doesn't have a happiness score\nPalau doesn't have a happiness score\nPapua New Guinea doesn't have a happiness score\nPuerto Rico doesn't have a happiness score\nNorth Korea doesn't have a happiness score\nFrench Polynesia doesn't have a happiness score\nWestern Sahara doesn't have a happiness score\nScarborough Reef doesn't have a happiness score\nSouth Sudan doesn't have a happiness score\nSerranilla Bank doesn't have a happiness score\nSouth Georgia and South Sandwich Islands doesn't have a happiness score\nSaint Helena doesn't have a happiness score\nSolomon Islands doesn't have a happiness score\nSan Marino doesn't have a happiness score\nSomalia doesn't have a happiness score\nSaint Pierre and Miquelon doesn't have a happiness score\nSao Tome and Principe doesn't have a happiness score\nSint Maarten doesn't have a happiness score\nSeychelles doesn't have a happiness score\nTurks and Caicos Islands doesn't have a happiness score\nEast Timor doesn't have a happiness score\nTonga doesn't have a happiness score\nTuvalu doesn't have a happiness score\nUnited States Minor Outlying Islands doesn't have a happiness score\nUS Naval Base Guantanamo Bay doesn't have a happiness score\nVatican doesn't have a happiness score\nSaint Vincent and the Grenadines doesn't have a happiness score\nBritish Virgin Islands doesn't have a happiness score\nUnited States Virgin Islands doesn't have a happiness score\nVanuatu doesn't have a happiness score\nWallis and Futuna doesn't have a happiness score\nAkrotiri Sovereign Base Area doesn't have a happiness score\nSamoa doesn't have a happiness score\n"
     ]
    }
   ],
   "source": [
    "for country in countries:\n",
    "    properties = country.properties\n",
    "    name = properties['ADMIN']\n",
    "    try: \n",
    "        df.loc[name]\n",
    "    except:\n",
    "        print(f\"{name} doesn't have a happiness score\")\n",
    "    else:\n",
    "        properties['Happiness Score'] = df.loc[name][0]\n",
    "        properties['GDP per Capita'] = df.loc[name][1]\n",
    "        properties['Family'] = df.loc[name][2]\n",
    "        properties['Healthy Life Expectancy'] = df.loc[name][3]\n",
    "        properties['Freedom'] = df.loc[name][4]\n",
    "        properties['Perception of Government Corruption'] = df.loc[name][5]\n",
    "        properties['Generosity'] = df.loc[name][6]\n",
    "        country.properties = dict(properties)"
   ]
  },
  {
   "cell_type": "code",
   "execution_count": 6,
   "metadata": {},
   "outputs": [],
   "source": [
    "countries.save('geojson/2015countries.geojson')"
   ]
  },
  {
   "cell_type": "code",
   "execution_count": 7,
   "metadata": {},
   "outputs": [
    {
     "output_type": "execute_result",
     "data": {
      "text/plain": [
       "{'ADMIN': 'Afghanistan',\n",
       " 'ISO_A3': 'AFG',\n",
       " 'Happiness Score': 3.575,\n",
       " 'GDP per Capita': 0.31982,\n",
       " 'Family': 0.30285,\n",
       " 'Healthy Life Expectancy': 0.30335,\n",
       " 'Freedom': 0.23414000000000001,\n",
       " 'Perception of Government Corruption': 0.09719,\n",
       " 'Generosity': 0.3651}"
      ]
     },
     "metadata": {},
     "execution_count": 7
    }
   ],
   "source": [
    "newcountries = pygeoj.load('geojson/2015countries.geojson')\n",
    "newcountries[1].properties"
   ]
  },
  {
   "cell_type": "code",
   "execution_count": null,
   "metadata": {},
   "outputs": [],
   "source": []
  }
 ]
}