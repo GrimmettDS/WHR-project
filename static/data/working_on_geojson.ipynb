{
 "metadata": {
  "language_info": {
   "codemirror_mode": {
    "name": "ipython",
    "version": 3
   },
   "file_extension": ".py",
   "mimetype": "text/x-python",
   "name": "python",
   "nbconvert_exporter": "python",
   "pygments_lexer": "ipython3",
   "version": "3.8.3-final"
  },
  "orig_nbformat": 2,
  "kernelspec": {
   "name": "python3",
   "display_name": "Python 3.8.3 64-bit ('conma': virtualenv)",
   "metadata": {
    "interpreter": {
     "hash": "78c908cb1a9dd36d2ac072f33e7f862980c362a2c369a07a6eb11e3740dc70f2"
    }
   }
  }
 },
 "nbformat": 4,
 "nbformat_minor": 2,
 "cells": [
  {
   "source": [
    "Using the Pygeoj to edit the GeoJson file. Pulls in data from the WHR csv files using pandas.\n",
    "Manually changing the year and running each time, in order to inspect the country names.\n",
    "CSV files have more colloquial country names (e.g. United States), while the GeoJson is official names (e.g. United States of America).\n",
    "So far I have 2015, 2016 done!"
   ],
   "cell_type": "markdown",
   "metadata": {}
  },
  {
   "cell_type": "code",
   "execution_count": 1,
   "metadata": {},
   "outputs": [],
   "source": [
    "import pygeoj\n",
    "import pandas as pd \n",
    "\n",
    "file = 'geojson/countries.geojson'\n",
    "data = 'cleaned/clean2016.csv'"
   ]
  },
  {
   "cell_type": "code",
   "execution_count": 2,
   "metadata": {},
   "outputs": [],
   "source": [
    "countries = pygeoj.load(file)\n",
    "df = pd.read_csv(data)"
   ]
  },
  {
   "cell_type": "code",
   "execution_count": 3,
   "metadata": {},
   "outputs": [
    {
     "output_type": "execute_result",
     "data": {
      "text/plain": [
       "             Happiness Score  GDP per Capita   Family  \\\n",
       "Country                                                 \n",
       "Denmark                7.526         1.44178  1.16374   \n",
       "Switzerland            7.509         1.52733  1.14524   \n",
       "Iceland                7.501         1.42666  1.18326   \n",
       "Norway                 7.498         1.57744  1.12690   \n",
       "Finland                7.413         1.40598  1.13464   \n",
       "\n",
       "             Healthy Life Expectancy  Freedom  \\\n",
       "Country                                         \n",
       "Denmark                      0.79504  0.57941   \n",
       "Switzerland                  0.86303  0.58557   \n",
       "Iceland                      0.86733  0.56624   \n",
       "Norway                       0.79579  0.59609   \n",
       "Finland                      0.81091  0.57104   \n",
       "\n",
       "             Perception of Government Corruption  Generosity  \n",
       "Country                                                       \n",
       "Denmark                                  0.44453     0.36171  \n",
       "Switzerland                              0.41203     0.28083  \n",
       "Iceland                                  0.14975     0.47678  \n",
       "Norway                                   0.35776     0.37895  \n",
       "Finland                                  0.41004     0.25492  "
      ],
      "text/html": "<div>\n<style scoped>\n    .dataframe tbody tr th:only-of-type {\n        vertical-align: middle;\n    }\n\n    .dataframe tbody tr th {\n        vertical-align: top;\n    }\n\n    .dataframe thead th {\n        text-align: right;\n    }\n</style>\n<table border=\"1\" class=\"dataframe\">\n  <thead>\n    <tr style=\"text-align: right;\">\n      <th></th>\n      <th>Happiness Score</th>\n      <th>GDP per Capita</th>\n      <th>Family</th>\n      <th>Healthy Life Expectancy</th>\n      <th>Freedom</th>\n      <th>Perception of Government Corruption</th>\n      <th>Generosity</th>\n    </tr>\n    <tr>\n      <th>Country</th>\n      <th></th>\n      <th></th>\n      <th></th>\n      <th></th>\n      <th></th>\n      <th></th>\n      <th></th>\n    </tr>\n  </thead>\n  <tbody>\n    <tr>\n      <th>Denmark</th>\n      <td>7.526</td>\n      <td>1.44178</td>\n      <td>1.16374</td>\n      <td>0.79504</td>\n      <td>0.57941</td>\n      <td>0.44453</td>\n      <td>0.36171</td>\n    </tr>\n    <tr>\n      <th>Switzerland</th>\n      <td>7.509</td>\n      <td>1.52733</td>\n      <td>1.14524</td>\n      <td>0.86303</td>\n      <td>0.58557</td>\n      <td>0.41203</td>\n      <td>0.28083</td>\n    </tr>\n    <tr>\n      <th>Iceland</th>\n      <td>7.501</td>\n      <td>1.42666</td>\n      <td>1.18326</td>\n      <td>0.86733</td>\n      <td>0.56624</td>\n      <td>0.14975</td>\n      <td>0.47678</td>\n    </tr>\n    <tr>\n      <th>Norway</th>\n      <td>7.498</td>\n      <td>1.57744</td>\n      <td>1.12690</td>\n      <td>0.79579</td>\n      <td>0.59609</td>\n      <td>0.35776</td>\n      <td>0.37895</td>\n    </tr>\n    <tr>\n      <th>Finland</th>\n      <td>7.413</td>\n      <td>1.40598</td>\n      <td>1.13464</td>\n      <td>0.81091</td>\n      <td>0.57104</td>\n      <td>0.41004</td>\n      <td>0.25492</td>\n    </tr>\n  </tbody>\n</table>\n</div>"
     },
     "metadata": {},
     "execution_count": 3
    }
   ],
   "source": [
    "df = df.set_index('Country')\n",
    "df.head()\n"
   ]
  },
  {
   "cell_type": "code",
   "execution_count": 4,
   "metadata": {},
   "outputs": [
    {
     "output_type": "execute_result",
     "data": {
      "text/plain": [
       "'Aruba'"
      ]
     },
     "metadata": {},
     "execution_count": 4
    }
   ],
   "source": [
    "properties = countries[0].properties\n",
    "name = properties['ADMIN']\n",
    "name"
   ]
  },
  {
   "cell_type": "code",
   "execution_count": 5,
   "metadata": {
    "tags": []
   },
   "outputs": [
    {
     "output_type": "stream",
     "name": "stdout",
     "text": [
      "Aruba doesn't have a happiness score\nAnguilla doesn't have a happiness score\nAland doesn't have a happiness score\nAndorra doesn't have a happiness score\nAmerican Samoa doesn't have a happiness score\nAntarctica doesn't have a happiness score\nAshmore and Cartier Islands doesn't have a happiness score\nFrench Southern and Antarctic Lands doesn't have a happiness score\nAntigua and Barbuda doesn't have a happiness score\nThe Bahamas doesn't have a happiness score\nBajo Nuevo Bank (Petrel Is.) doesn't have a happiness score\nSaint Barthelemy doesn't have a happiness score\nBermuda doesn't have a happiness score\nBarbados doesn't have a happiness score\nBrunei doesn't have a happiness score\nCentral African Republic doesn't have a happiness score\nClipperton Island doesn't have a happiness score\nCyprus No Mans Area doesn't have a happiness score\nCook Islands doesn't have a happiness score\nCape Verde doesn't have a happiness score\nCoral Sea Islands doesn't have a happiness score\nCuba doesn't have a happiness score\nCuraÃ§ao doesn't have a happiness score\nCayman Islands doesn't have a happiness score\nNorthern Cyprus doesn't have a happiness score\nDjibouti doesn't have a happiness score\nDominica doesn't have a happiness score\nEritrea doesn't have a happiness score\nDhekelia Sovereign Base Area doesn't have a happiness score\nFiji doesn't have a happiness score\nFalkland Islands doesn't have a happiness score\nFaroe Islands doesn't have a happiness score\nFederated States of Micronesia doesn't have a happiness score\nGuernsey doesn't have a happiness score\nGibraltar doesn't have a happiness score\nGambia doesn't have a happiness score\nGuinea Bissau doesn't have a happiness score\nEquatorial Guinea doesn't have a happiness score\nGrenada doesn't have a happiness score\nGreenland doesn't have a happiness score\nGuam doesn't have a happiness score\nGuyana doesn't have a happiness score\nHeard Island and McDonald Islands doesn't have a happiness score\nIsle of Man doesn't have a happiness score\nIndian Ocean Territories doesn't have a happiness score\nBritish Indian Ocean Territory doesn't have a happiness score\nJersey doesn't have a happiness score\nBaykonur Cosmodrome doesn't have a happiness score\nSiachen Glacier doesn't have a happiness score\nKiribati doesn't have a happiness score\nSaint Kitts and Nevis doesn't have a happiness score\nSaint Lucia doesn't have a happiness score\nLiechtenstein doesn't have a happiness score\nLesotho doesn't have a happiness score\nMacao S.A.R doesn't have a happiness score\nSaint Martin doesn't have a happiness score\nMonaco doesn't have a happiness score\nMaldives doesn't have a happiness score\nMarshall Islands doesn't have a happiness score\nNorthern Mariana Islands doesn't have a happiness score\nMozambique doesn't have a happiness score\nMontserrat doesn't have a happiness score\nNew Caledonia doesn't have a happiness score\nNorfolk Island doesn't have a happiness score\nNiue doesn't have a happiness score\nNauru doesn't have a happiness score\nOman doesn't have a happiness score\nPitcairn Islands doesn't have a happiness score\nSpratly Islands doesn't have a happiness score\nPalau doesn't have a happiness score\nPapua New Guinea doesn't have a happiness score\nNorth Korea doesn't have a happiness score\nFrench Polynesia doesn't have a happiness score\nWestern Sahara doesn't have a happiness score\nScarborough Reef doesn't have a happiness score\nSerranilla Bank doesn't have a happiness score\nSouth Georgia and South Sandwich Islands doesn't have a happiness score\nSaint Helena doesn't have a happiness score\nSolomon Islands doesn't have a happiness score\nSan Marino doesn't have a happiness score\nSaint Pierre and Miquelon doesn't have a happiness score\nSao Tome and Principe doesn't have a happiness score\nSwaziland doesn't have a happiness score\nSint Maarten doesn't have a happiness score\nSeychelles doesn't have a happiness score\nTurks and Caicos Islands doesn't have a happiness score\nEast Timor doesn't have a happiness score\nTonga doesn't have a happiness score\nTuvalu doesn't have a happiness score\nUnited States Minor Outlying Islands doesn't have a happiness score\nUS Naval Base Guantanamo Bay doesn't have a happiness score\nVatican doesn't have a happiness score\nSaint Vincent and the Grenadines doesn't have a happiness score\nBritish Virgin Islands doesn't have a happiness score\nUnited States Virgin Islands doesn't have a happiness score\nVanuatu doesn't have a happiness score\nWallis and Futuna doesn't have a happiness score\nAkrotiri Sovereign Base Area doesn't have a happiness score\nSamoa doesn't have a happiness score\n"
     ]
    }
   ],
   "source": [
    "for country in countries:\n",
    "    properties = country.properties\n",
    "    name = properties['ADMIN']\n",
    "    try: \n",
    "        df.loc[name]\n",
    "    except:\n",
    "        print(f\"{name} doesn't have a happiness score\")\n",
    "    else:\n",
    "        properties['Happiness Score'] = df.loc[name][0]\n",
    "        properties['GDP per Capita'] = df.loc[name][1]\n",
    "        properties['Family'] = df.loc[name][2]\n",
    "        properties['Healthy Life Expectancy'] = df.loc[name][3]\n",
    "        properties['Freedom'] = df.loc[name][4]\n",
    "        properties['Perception of Government Corruption'] = df.loc[name][5]\n",
    "        properties['Generosity'] = df.loc[name][6]\n",
    "        country.properties = dict(properties)"
   ]
  },
  {
   "cell_type": "code",
   "execution_count": 6,
   "metadata": {},
   "outputs": [],
   "source": [
    "countries.save('geojson/2016countries.geojson')"
   ]
  },
  {
   "cell_type": "code",
   "execution_count": 8,
   "metadata": {},
   "outputs": [
    {
     "output_type": "execute_result",
     "data": {
      "text/plain": [
       "{'ADMIN': 'Afghanistan',\n",
       " 'ISO_A3': 'AFG',\n",
       " 'Happiness Score': 3.575,\n",
       " 'GDP per Capita': 0.31982,\n",
       " 'Family': 0.30285,\n",
       " 'Healthy Life Expectancy': 0.30335,\n",
       " 'Freedom': 0.23414000000000001,\n",
       " 'Perception of Government Corruption': 0.09719,\n",
       " 'Generosity': 0.3651}"
      ]
     },
     "metadata": {},
     "execution_count": 8
    }
   ],
   "source": [
    "newcountries = pygeoj.load('geojson/2015countries.geojson')\n",
    "newcountries[1].properties"
   ]
  },
  {
   "cell_type": "code",
   "execution_count": null,
   "metadata": {},
   "outputs": [],
   "source": []
  }
 ]
}